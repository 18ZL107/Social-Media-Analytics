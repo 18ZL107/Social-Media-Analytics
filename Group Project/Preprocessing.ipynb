{
 "cells": [
  {
   "cell_type": "markdown",
   "metadata": {},
   "source": [
    "# Library Import"
   ]
  },
  {
   "cell_type": "code",
   "execution_count": 94,
   "metadata": {},
   "outputs": [],
   "source": [
    "import pandas as pd\n",
    "import numpy as np\n",
    "import matplotlib.pyplot as plt\n",
    "from sklearn.feature_extraction.text import TfidfVectorizer\n",
    "from sklearn.preprocessing import StandardScaler\n",
    "import ast\n",
    "from collections import Counter\n",
    "import spacy\n",
    "from textblob import TextBlob\n",
    "import nltk\n",
    "from nltk.tokenize import RegexpTokenizer\n",
    "from nltk.stem import WordNetLemmatizer,PorterStemmer\n",
    "from nltk.corpus import stopwords\n",
    "import re\n",
    "import string"
   ]
  },
  {
   "cell_type": "markdown",
   "metadata": {},
   "source": [
    "# Data Import"
   ]
  },
  {
   "cell_type": "markdown",
   "metadata": {},
   "source": [
    "Dataset URL: https://www.aminer.org/citation"
   ]
  },
  {
   "cell_type": "code",
   "execution_count": 95,
   "metadata": {},
   "outputs": [],
   "source": [
    "data = pd.read_csv('DBLP_citation.csv')"
   ]
  },
  {
   "cell_type": "code",
   "execution_count": 96,
   "metadata": {},
   "outputs": [
    {
     "data": {
      "text/html": [
       "<div>\n",
       "<style scoped>\n",
       "    .dataframe tbody tr th:only-of-type {\n",
       "        vertical-align: middle;\n",
       "    }\n",
       "\n",
       "    .dataframe tbody tr th {\n",
       "        vertical-align: top;\n",
       "    }\n",
       "\n",
       "    .dataframe thead th {\n",
       "        text-align: right;\n",
       "    }\n",
       "</style>\n",
       "<table border=\"1\" class=\"dataframe\">\n",
       "  <thead>\n",
       "    <tr style=\"text-align: right;\">\n",
       "      <th></th>\n",
       "      <th>title</th>\n",
       "      <th>authors</th>\n",
       "      <th>year</th>\n",
       "      <th>venue</th>\n",
       "      <th>id</th>\n",
       "      <th>references</th>\n",
       "      <th>abstract</th>\n",
       "      <th>citation_count</th>\n",
       "    </tr>\n",
       "  </thead>\n",
       "  <tbody>\n",
       "    <tr>\n",
       "      <th>0</th>\n",
       "      <td>OQL[C++]: Extending C++ with an Object Query C...</td>\n",
       "      <td>['José A. Blakeley']</td>\n",
       "      <td>1995</td>\n",
       "      <td>Modern Database Systems</td>\n",
       "      <td>0</td>\n",
       "      <td>[]</td>\n",
       "      <td>NaN</td>\n",
       "      <td>5</td>\n",
       "    </tr>\n",
       "    <tr>\n",
       "      <th>1</th>\n",
       "      <td>Transaction Management in Multidatabase Systems.</td>\n",
       "      <td>['Yuri Breitbart', 'Hector Garcia-Molina', 'Ab...</td>\n",
       "      <td>1995</td>\n",
       "      <td>Modern Database Systems</td>\n",
       "      <td>1</td>\n",
       "      <td>[]</td>\n",
       "      <td>NaN</td>\n",
       "      <td>0</td>\n",
       "    </tr>\n",
       "    <tr>\n",
       "      <th>2</th>\n",
       "      <td>Overview of the ADDS System.</td>\n",
       "      <td>['Yuri Breitbart', 'Tom C. Reyes']</td>\n",
       "      <td>1995</td>\n",
       "      <td>Modern Database Systems</td>\n",
       "      <td>2</td>\n",
       "      <td>[]</td>\n",
       "      <td>NaN</td>\n",
       "      <td>0</td>\n",
       "    </tr>\n",
       "  </tbody>\n",
       "</table>\n",
       "</div>"
      ],
      "text/plain": [
       "                                               title  \\\n",
       "0  OQL[C++]: Extending C++ with an Object Query C...   \n",
       "1   Transaction Management in Multidatabase Systems.   \n",
       "2                       Overview of the ADDS System.   \n",
       "\n",
       "                                             authors  year  \\\n",
       "0                               ['José A. Blakeley']  1995   \n",
       "1  ['Yuri Breitbart', 'Hector Garcia-Molina', 'Ab...  1995   \n",
       "2                 ['Yuri Breitbart', 'Tom C. Reyes']  1995   \n",
       "\n",
       "                     venue  id references abstract  citation_count  \n",
       "0  Modern Database Systems   0         []      NaN               5  \n",
       "1  Modern Database Systems   1         []      NaN               0  \n",
       "2  Modern Database Systems   2         []      NaN               0  "
      ]
     },
     "execution_count": 96,
     "metadata": {},
     "output_type": "execute_result"
    }
   ],
   "source": [
    "data.head(3)"
   ]
  },
  {
   "cell_type": "code",
   "execution_count": 97,
   "metadata": {},
   "outputs": [],
   "source": [
    "# Function to convert string-lists to Python lists\n",
    "def convert_to_list(data):\n",
    "    try:\n",
    "        return ast.literal_eval(data)\n",
    "    except:\n",
    "        return []  # Returns an empty list if there's an error in conversion\n",
    "\n",
    "# Convert the string representations to lists\n",
    "data['authors'] = data['authors'].apply(convert_to_list)\n",
    "data['references'] = data['references'].apply(convert_to_list)\n",
    "\n",
    "# Convert id to string\n",
    "data['id'] = data['id'].astype(str)"
   ]
  },
  {
   "cell_type": "code",
   "execution_count": 98,
   "metadata": {},
   "outputs": [
    {
     "name": "stdout",
     "output_type": "stream",
     "text": [
      "<class 'pandas.core.frame.DataFrame'>\n",
      "RangeIndex: 1632442 entries, 0 to 1632441\n",
      "Data columns (total 8 columns):\n",
      " #   Column          Non-Null Count    Dtype \n",
      "---  ------          --------------    ----- \n",
      " 0   title           1632442 non-null  object\n",
      " 1   authors         1632442 non-null  object\n",
      " 2   year            1632442 non-null  int64 \n",
      " 3   venue           1630753 non-null  object\n",
      " 4   id              1632442 non-null  object\n",
      " 5   references      1632442 non-null  object\n",
      " 6   abstract        653506 non-null   object\n",
      " 7   citation_count  1632442 non-null  int64 \n",
      "dtypes: int64(2), object(6)\n",
      "memory usage: 99.6+ MB\n"
     ]
    }
   ],
   "source": [
    "data.info()"
   ]
  },
  {
   "cell_type": "markdown",
   "metadata": {},
   "source": [
    "# Preprocessing"
   ]
  },
  {
   "cell_type": "markdown",
   "metadata": {},
   "source": [
    "## Missing values"
   ]
  },
  {
   "cell_type": "code",
   "execution_count": 99,
   "metadata": {},
   "outputs": [
    {
     "data": {
      "text/plain": [
       "title                  0\n",
       "authors                0\n",
       "year                   0\n",
       "venue               1689\n",
       "id                     0\n",
       "references             0\n",
       "abstract          978936\n",
       "citation_count         0\n",
       "dtype: int64"
      ]
     },
     "execution_count": 99,
     "metadata": {},
     "output_type": "execute_result"
    }
   ],
   "source": [
    "data.isna().sum()"
   ]
  },
  {
   "cell_type": "code",
   "execution_count": 122,
   "metadata": {},
   "outputs": [
    {
     "data": {
      "text/plain": [
       "title             0\n",
       "authors           0\n",
       "year              0\n",
       "venue             0\n",
       "id                0\n",
       "references        0\n",
       "abstract          0\n",
       "citation_count    0\n",
       "dtype: int64"
      ]
     },
     "execution_count": 122,
     "metadata": {},
     "output_type": "execute_result"
    }
   ],
   "source": [
    "preprocessed_data = data.copy()\n",
    "preprocessed_data['abstract'] = preprocessed_data['abstract'].fillna('')\n",
    "preprocessed_data['venue'] = preprocessed_data['venue'].fillna('')\n",
    "preprocessed_data.isna().sum()"
   ]
  },
  {
   "cell_type": "markdown",
   "metadata": {},
   "source": [
    "## Create New Feature"
   ]
  },
  {
   "cell_type": "code",
   "execution_count": 123,
   "metadata": {},
   "outputs": [],
   "source": [
    "preprocessed_data['Author_Count'] = preprocessed_data['authors'].apply(lambda x: len(x))\n",
    "preprocessed_data['Ref_Count'] = preprocessed_data['references'].apply(lambda x: len(x))"
   ]
  },
  {
   "cell_type": "markdown",
   "metadata": {},
   "source": [
    "## Rename the column"
   ]
  },
  {
   "cell_type": "code",
   "execution_count": 124,
   "metadata": {},
   "outputs": [],
   "source": [
    "preprocessed_data.rename(columns={'citation_count': 'IsCited_Count'}, inplace=True)"
   ]
  },
  {
   "cell_type": "markdown",
   "metadata": {},
   "source": [
    "## Delete Invalid Rows"
   ]
  },
  {
   "cell_type": "code",
   "execution_count": null,
   "metadata": {},
   "outputs": [
    {
     "data": {
      "text/plain": [
       "count    1.632442e+06\n",
       "mean     1.801409e+03\n",
       "std      6.012202e+02\n",
       "min     -1.000000e+00\n",
       "25%      1.995000e+03\n",
       "50%      2.003000e+03\n",
       "75%      2.007000e+03\n",
       "max      2.011000e+03\n",
       "Name: year, dtype: float64"
      ]
     },
     "execution_count": 125,
     "metadata": {},
     "output_type": "execute_result"
    }
   ],
   "source": [
    "preprocessed_data['year'].describe()"
   ]
  },
  {
   "cell_type": "code",
   "execution_count": 126,
   "metadata": {},
   "outputs": [],
   "source": [
    "preprocessed_data = preprocessed_data[preprocessed_data['year'] <= 1800] # Remove the rows with year = -1"
   ]
  },
  {
   "cell_type": "code",
   "execution_count": null,
   "metadata": {},
   "outputs": [
    {
     "data": {
      "text/plain": [
       "Author_Count\n",
       "2     49182\n",
       "1     43427\n",
       "3     32278\n",
       "4     17863\n",
       "5      9058\n",
       "      ...  \n",
       "41        1\n",
       "67        1\n",
       "55        1\n",
       "68        1\n",
       "84        1\n",
       "Name: count, Length: 65, dtype: int64"
      ]
     },
     "execution_count": 128,
     "metadata": {},
     "output_type": "execute_result"
    }
   ],
   "source": [
    "preprocessed_data['authors'].value_counts().sort_values(ascending=False)"
   ]
  },
  {
   "cell_type": "markdown",
   "metadata": {},
   "source": [
    "## Check Language"
   ]
  },
  {
   "cell_type": "code",
   "execution_count": 103,
   "metadata": {},
   "outputs": [
    {
     "name": "stdout",
     "output_type": "stream",
     "text": [
      "Non-English characters used in the 'title' column: {'≤', '±', '过', '超', '/', '算', 'B', 'R', '源', '知', '«', '̌', 'É', '识', 'Ζ', '护', 'Ô', 'c', '理', 'ε', 'ë', '内', '匹', '2', '‘', '¾', '\\\\', 'û', 'a', '务', '\\xad', 'W', '0', 'μ', '组', 'Ì', 'Ö', 'à', '^', '`', 'ö', '“', '合', 'Q', '+', ']', '法', '™', '9', '§', '习', '×', 'ì', 'ù', '\\x97', '¥', '现', 'α', 'ó', 'H', 'º', ';', 't', '于', 'X', 'ô', '协', '”', '系', '\\x91', '°', '用', 'ß', ' ', '析', '基', '调', '提', '\\x99', '程', '络', 'e', 'T', '换', 'Û', 'Ð', 'M', 'y', 'C', '¬', '扩', 'ﬁ', 'i', 'ø', 'Ê', 'Æ', '容', 'Ø', 'Ü', 'P', '¹', 'I', '点', '框', '种', '\\x94', 'Î', 'Ξ', '1', 'L', '#', '!', '研', '面', '7', 'é', 'È', '\\xa0', '中', '及', 'j', 'ç', 'Ł', '符', '$', '方', 'F', '∞', 'U', '药', '息', '≠', 'Ç', '~', '@', 'Ó', '辑', 'ã', '可', '³', 'Δ', 'J', '4', 'w', '义', '©', 'Õ', '号', 'Φ', '̇', 'å', 'O', '*', 'Ñ', 'G', 'γ', '发', 'o', 'ê', '演', 'è', '流', 'l', '>', 's', ':', 'õ', '述', '信', '保', 'π', '5', 'A', 'θ', 'Í', 'β', '|', 'S', 'Ω', '\\x9c', '学', 'ℓ', ',', 'â', '逻', '分', 'ω', 'î', 'φ', '定', '资', '变', '²', '£', 'x', '架', 'ü', '´', 'η', 'Ã', '=', '网', '¿', '…', '[', 'ℒ', 'Ò', '服', '¯', 'r', '下', 'm', '向', '：', '(', 'Y', 'Å', '献', 'τ', '•', 'ñ', '本', 'q', 'z', '‰', 'Σ', '模', '-', '·', '配', '描', 'Z', 'À', '语', '_', '展', 'ª', '%', 'ć', '6', 'u', '¡', 'E', '¢', '推', ')', '–', '关', 'K', 'µ', '∇', '»', 'N', '≥', 'd', 'ò', '\\x84', 'b', '究', '\\x80', 'Ä', '8', 'ú', '?', '图', '一', 'h', 'k', '体', '取', '建', '́', 'f', '3', '½', '\\x92', \"'\", 'í', 'κ', 'Ï', '化', '\\x96', 'č', '—', '文', '.', 'á', 'V', 'ï', 'λ', '&', '®', '动', 'æ', '的', 'Á', 'n', '\\x93', 'g', 'ý', 'v', '制', '{', 'ä', 'D', 'Â', '户', '医', '<', 'p', '}', 'Š', 'Π', '自', '√', '\"'}\n"
     ]
    }
   ],
   "source": [
    "non_eng_chars = set(''.join(preprocessed_data['title'].str.replace(r'[a-zA-Z\\s]+', '')))\n",
    "\n",
    "print(\"Non-English characters used in the 'title' column:\", non_eng_chars)"
   ]
  },
  {
   "cell_type": "code",
   "execution_count": 104,
   "metadata": {},
   "outputs": [],
   "source": [
    "english_chars = set(string.ascii_letters + string.punctuation + ' ')\n",
    "\n",
    "# Function to check if all characters in a title are English\n",
    "def is_english(col):\n",
    "    return all(char in english_chars for char in col)\n",
    "\n",
    "# Filter the DataFrame to keep only rows with English titles\n",
    "english_only_data = preprocessed_data[preprocessed_data['title'].apply(is_english)]\n",
    "english_only_data = english_only_data[english_only_data['abstract'].apply(is_english)]\n",
    "english_only_data = english_only_data[english_only_data['venue'].apply(is_english)]"
   ]
  },
  {
   "cell_type": "markdown",
   "metadata": {},
   "source": [
    "## Check Punctuation"
   ]
  },
  {
   "cell_type": "code",
   "execution_count": 105,
   "metadata": {},
   "outputs": [
    {
     "name": "stdout",
     "output_type": "stream",
     "text": [
      "List of unique non-alphabetic characters: ['%', '~', '@', '|', '{', ',', '?', '/', '=', '>', '^', '.', '<', '`', '[', ')', '$', '#', ':', '!', '}', '&', '-', ';', '+', '(', ']', '*', '_', \"'\", '\"', '\\\\']\n"
     ]
    }
   ],
   "source": [
    "non_alphabetic_chars_set = set(re.findall(r'[^a-zA-Z\\s]', ''.join(english_only_data['title'])))\n",
    "non_alphabetic_chars_list = list(non_alphabetic_chars_set)\n",
    "print(\"List of unique non-alphabetic characters:\", non_alphabetic_chars_list)"
   ]
  },
  {
   "cell_type": "code",
   "execution_count": 106,
   "metadata": {},
   "outputs": [
    {
     "name": "stdout",
     "output_type": "stream",
     "text": [
      "% Example:\n",
      "%T Museum and Interactive Multimedia Information Service.\n",
      "~ Example:\n",
      "Segmentation of Range Images in a~Quadtree.\n",
      "@ Example:\n",
      "Labeled @-Calculus: Formalism for Time-Concerned Human Factors.\n",
      "| Example:\n",
      "An O(sqrt(|v|) |E|) Algorithm for Finding Maximum Matching in General Graphs\n",
      "{ Example:\n",
      "A Lazy and Layered SMT($\\mathcal{BV}$) Solver for Hard Industrial Verification Problems.\n",
      ", Example:\n",
      "Title, Preface, Contents.\n",
      "? Example:\n",
      "Logic Programming - Past or Future?\n",
      "/ Example:\n",
      "TCP/IP Architecture, Protocols, and Services.\n",
      "= Example:\n",
      "A Parallel Time/Processor Tradeoff T.P=O(n^(log M)/M) for the Subset-Sum Problem.\n",
      "> Example:\n",
      "Turn it <u>this</u> way: grounding collaborative action with remote gestures.\n",
      "^ Example:\n",
      "Software Offshoring ?^(a) Risks and Opportunities for Software Engineering Programs.\n",
      ". Example:\n",
      "Multimedia Information Systems: Issues and Approaches.\n",
      "< Example:\n",
      "\"<head>, <body>, Links and Code: An Introduction to Using HTML to Present Your Data\".\n",
      "` Example:\n",
      "Using ``Live Information'' in a Multimedia Framework.\n",
      "[ Example:\n",
      "Operating System Support [for Multimedia Databases].\n",
      ") Example:\n",
      "Open System Architecture for Controls within Automation Systems (OSACA).\n",
      "$ Example:\n",
      "An average running time analysis of a backtracking algorithm to calculate the measure of the union of hyperrectangles in $d$ dimensions.\n",
      "# Example:\n",
      "Generic Programming for Scientific Computing in C++, Java, and C#.\n",
      ": Example:\n",
      "An Object-Oriented DBMS War Story: Developing a Genome Mapping Database in C++.\n",
      "! Example:\n",
      "Like Rome, a mobile operator's empire wasn't built in a day!: a journey through the rise and fall of mobile network operators.\n",
      "} Example:\n",
      "A Lazy and Layered SMT($\\mathcal{BV}$) Solver for Hard Industrial Verification Problems.\n",
      "& Example:\n",
      "Datenbanken & Java - JDBC, SQLJ und ODMG\n",
      "- Example:\n",
      "Requirements for a Performance Benchmark for Object-Oriented Database Systems.\n",
      "; Example:\n",
      "A payment &amp; receipt business model in U-commerce environment.\n",
      "+ Example:\n",
      "OZ+: An Object-Oriented Database System.\n",
      "( Example:\n",
      "Open System Architecture for Controls within Automation Systems (OSACA).\n",
      "] Example:\n",
      "Operating System Support [for Multimedia Databases].\n",
      "* Example:\n",
      "Leveraging Distance Table to Accelerate Data Location in Large-Scaled Data Intensive Grid Environment*.\n",
      "_ Example:\n",
      "SA_MetaMatch: relevant document discovery through document metadata and indexing.\n",
      "' Example:\n",
      "The 'Marseille Interpreter' - a Personal Perspective.\n",
      "\" Example:\n",
      "\"Kage no Sekai\": interactive animation of shadow based on physical action.\n",
      "\\ Example:\n",
      "Multiple Pass Streaming Algorithms for Learning Mixtures of Distributions in \\mathbb .\n"
     ]
    }
   ],
   "source": [
    "for char in non_alphabetic_chars_list:\n",
    "    titles_with_char = english_only_data[english_only_data['title'].str.contains(re.escape(char))]\n",
    "    print(f'{char} Example:')\n",
    "    print(titles_with_char['title'].iloc[3]) "
   ]
  },
  {
   "cell_type": "code",
   "execution_count": 107,
   "metadata": {},
   "outputs": [],
   "source": [
    "def clean_column(column):\n",
    "    # Use raw strings for regex. Protect 'C++' and 'C#'\n",
    "    column = column.str.replace(r'C\\+\\+', 'TEMPORARYCPP', regex=True)\n",
    "    column = column.str.replace(r'C#', 'TEMPORARYCSHARP', regex=True)\n",
    "    \n",
    "    # Remove all non-alphabetic characters except spaces\n",
    "    column = column.str.replace(r'[^a-zA-Z\\s]', '', regex=True)\n",
    "    \n",
    "    # Restore 'C++' and 'C#'\n",
    "    column = column.str.replace('TEMPORARYCPP', 'C++', regex=False)\n",
    "    column = column.str.replace('TEMPORARYCSHARP', 'C#', regex=False)\n",
    "    \n",
    "    return column\n",
    "\n",
    "# Clean the 'title', 'abstract', and 'venue' columns\n",
    "clean_data = english_only_data.copy()\n",
    "clean_data['title'] = clean_column(clean_data['title'])\n",
    "clean_data['abstract'] = clean_column(clean_data['abstract'])\n",
    "clean_data['venue'] = clean_column(clean_data['venue'])"
   ]
  },
  {
   "cell_type": "code",
   "execution_count": 108,
   "metadata": {},
   "outputs": [
    {
     "name": "stdout",
     "output_type": "stream",
     "text": [
      "List of unique non-alphabetic characters: ['#', '+']\n"
     ]
    }
   ],
   "source": [
    "non_alphabetic_chars_set = set(re.findall(r'[^a-zA-Z\\s]', ''.join(clean_data['title'])))\n",
    "non_alphabetic_chars_list = list(non_alphabetic_chars_set)\n",
    "print(\"List of unique non-alphabetic characters:\", non_alphabetic_chars_list)"
   ]
  },
  {
   "cell_type": "code",
   "execution_count": 110,
   "metadata": {},
   "outputs": [
    {
     "name": "stdout",
     "output_type": "stream",
     "text": [
      "# Example:\n",
      "35309      Automatic Generation of the C# Code for Securi...\n",
      "46809      Generic Programming for Scientific Computing i...\n",
      "51838       Specification and Implementation Problems for C#\n",
      "51891      An ASM Specification of C# Threads and the NET...\n",
      "198679                        Adding Context Awareness to C#\n",
      "                                 ...                        \n",
      "1579518    The Implemention of ChineseTai Lue Electronic ...\n",
      "1597330    Realization of UML Class and State Machine Mod...\n",
      "1600252    Darwins World Simulation in C# The ModelView C...\n",
      "1600254        Darwins World Simulation in C# An Interpreter\n",
      "1613717    Code C# for chaos analysis of relativistic man...\n",
      "Name: title, Length: 73, dtype: object\n",
      "+ Example:\n",
      "0          OQLC++ Extending C++ with an Object Query Capa...\n",
      "7          An ObjectOriented DBMS War Story Developing a ...\n",
      "18                        C++ Bindings to an Object Database\n",
      "99                The C++ Programming Language First Edition\n",
      "101              The C++ Programming Language Second Edition\n",
      "                                 ...                        \n",
      "1606259    Precise computation using range arithmetic via...\n",
      "1613530    ROOT  A C++ framework for petabyte data storag...\n",
      "1613556            Reduze  Feynman integral reduction in C++\n",
      "1613681    CADNAC A version of CADNA for use with C or C+...\n",
      "1617511    Automatic translation of CC++ parallel code in...\n",
      "Name: title, Length: 851, dtype: object\n"
     ]
    }
   ],
   "source": [
    "for char in non_alphabetic_chars_list:\n",
    "    titles_with_char = clean_data[clean_data['title'].str.contains(re.escape(char))]\n",
    "    print(f'{char} Example:')\n",
    "    print(titles_with_char['title']) "
   ]
  },
  {
   "cell_type": "code",
   "execution_count": 111,
   "metadata": {},
   "outputs": [
    {
     "name": "stdout",
     "output_type": "stream",
     "text": [
      "List of unique non-alphabetic characters: ['#', '+']\n"
     ]
    }
   ],
   "source": [
    "non_alphabetic_chars_set = set(re.findall(r'[^a-zA-Z\\s]', ''.join(clean_data['abstract'])))\n",
    "non_alphabetic_chars_list = list(non_alphabetic_chars_set)\n",
    "print(\"List of unique non-alphabetic characters:\", non_alphabetic_chars_list)"
   ]
  },
  {
   "cell_type": "code",
   "execution_count": 112,
   "metadata": {},
   "outputs": [
    {
     "name": "stdout",
     "output_type": "stream",
     "text": [
      "# Example:\n",
      "16477      This paper proposes a new practical automatic ...\n",
      "24694      The term metaprogramming language is used to d...\n",
      "30159      Presenter First PF is a technique for organizi...\n",
      "30228      One day our customer a famous chip producer su...\n",
      "32488      Dealing with crosscutting requirements in soft...\n",
      "                                 ...                        \n",
      "1545994    We present a new programming model GUEESSTIMAT...\n",
      "1545999    Execution order constraints imposed by depende...\n",
      "1547553    Specifying application interfaces APIs with in...\n",
      "1579518    Dictionary is one of the most important charac...\n",
      "1579790    Web Services for Automated Fault Analysis WSAF...\n",
      "Name: abstract, Length: 145, dtype: object\n",
      "+ Example:\n",
      "156        Inside the C++ Object Model focuses on the und...\n",
      "4571       This paper deals with genetic algorithm implem...\n",
      "6551       Aristotle provides program analysis informatio...\n",
      "6687       This panel will examine issues related to the ...\n",
      "6789       This paper proposes an objectoriented developm...\n",
      "                                 ...                        \n",
      "1606259    An arithmetic is described that can replace fl...\n",
      "1606286    Efficient and easy implementation of variation...\n",
      "1606299    We describe here a library aimed at automating...\n",
      "1609406    An R package mixAK is introduced which impleme...\n",
      "1622494    This paper studies the temporal communication ...\n",
      "Name: abstract, Length: 1210, dtype: object\n"
     ]
    }
   ],
   "source": [
    "for char in non_alphabetic_chars_list:\n",
    "    titles_with_char = clean_data[clean_data['abstract'].str.contains(re.escape(char))]\n",
    "    print(f'{char} Example:')\n",
    "    print(titles_with_char['abstract']) "
   ]
  },
  {
   "cell_type": "code",
   "execution_count": 113,
   "metadata": {},
   "outputs": [
    {
     "name": "stdout",
     "output_type": "stream",
     "text": [
      "List of unique non-alphabetic characters: ['+']\n"
     ]
    }
   ],
   "source": [
    "non_alphabetic_chars_set = set(re.findall(r'[^a-zA-Z\\s]', ''.join(clean_data['venue'])))\n",
    "non_alphabetic_chars_list = list(non_alphabetic_chars_set)\n",
    "print(\"List of unique non-alphabetic characters:\", non_alphabetic_chars_list)"
   ]
  },
  {
   "cell_type": "code",
   "execution_count": 114,
   "metadata": {},
   "outputs": [
    {
     "name": "stdout",
     "output_type": "stream",
     "text": [
      "+ Example:\n",
      "70104      C++ Workshop\n",
      "70105    C++ Conference\n",
      "70106    C++ Conference\n",
      "70107    C++ Conference\n",
      "70108    C++ Conference\n",
      "              ...      \n",
      "70236    C++ Conference\n",
      "70237    C++ Conference\n",
      "70238    C++ Conference\n",
      "70239      C++ Workshop\n",
      "70240    C++ Conference\n",
      "Name: venue, Length: 129, dtype: object\n"
     ]
    }
   ],
   "source": [
    "for char in non_alphabetic_chars_list:\n",
    "    titles_with_char = clean_data[clean_data['venue'].str.contains(re.escape(char))]\n",
    "    print(f'{char} Example:')\n",
    "    print(titles_with_char['venue']) "
   ]
  },
  {
   "cell_type": "code",
   "execution_count": 115,
   "metadata": {},
   "outputs": [
    {
     "data": {
      "text/html": [
       "<div>\n",
       "<style scoped>\n",
       "    .dataframe tbody tr th:only-of-type {\n",
       "        vertical-align: middle;\n",
       "    }\n",
       "\n",
       "    .dataframe tbody tr th {\n",
       "        vertical-align: top;\n",
       "    }\n",
       "\n",
       "    .dataframe thead th {\n",
       "        text-align: right;\n",
       "    }\n",
       "</style>\n",
       "<table border=\"1\" class=\"dataframe\">\n",
       "  <thead>\n",
       "    <tr style=\"text-align: right;\">\n",
       "      <th></th>\n",
       "      <th>title</th>\n",
       "      <th>authors</th>\n",
       "      <th>year</th>\n",
       "      <th>venue</th>\n",
       "      <th>id</th>\n",
       "      <th>references</th>\n",
       "      <th>abstract</th>\n",
       "      <th>IsCited_Count</th>\n",
       "      <th>Author_Count</th>\n",
       "      <th>Ref_Count</th>\n",
       "    </tr>\n",
       "  </thead>\n",
       "  <tbody>\n",
       "    <tr>\n",
       "      <th>0</th>\n",
       "      <td>OQLC++ Extending C++ with an Object Query Capa...</td>\n",
       "      <td>[José A. Blakeley]</td>\n",
       "      <td>1995</td>\n",
       "      <td>Modern Database Systems</td>\n",
       "      <td>0</td>\n",
       "      <td>[]</td>\n",
       "      <td></td>\n",
       "      <td>5</td>\n",
       "      <td>1</td>\n",
       "      <td>0</td>\n",
       "    </tr>\n",
       "    <tr>\n",
       "      <th>1</th>\n",
       "      <td>Transaction Management in Multidatabase Systems</td>\n",
       "      <td>[Yuri Breitbart, Hector Garcia-Molina, Abraham...</td>\n",
       "      <td>1995</td>\n",
       "      <td>Modern Database Systems</td>\n",
       "      <td>1</td>\n",
       "      <td>[]</td>\n",
       "      <td></td>\n",
       "      <td>0</td>\n",
       "      <td>3</td>\n",
       "      <td>0</td>\n",
       "    </tr>\n",
       "    <tr>\n",
       "      <th>2</th>\n",
       "      <td>Overview of the ADDS System</td>\n",
       "      <td>[Yuri Breitbart, Tom C. Reyes]</td>\n",
       "      <td>1995</td>\n",
       "      <td>Modern Database Systems</td>\n",
       "      <td>2</td>\n",
       "      <td>[]</td>\n",
       "      <td></td>\n",
       "      <td>0</td>\n",
       "      <td>2</td>\n",
       "      <td>0</td>\n",
       "    </tr>\n",
       "    <tr>\n",
       "      <th>3</th>\n",
       "      <td>Multimedia Information Systems Issues and Appr...</td>\n",
       "      <td>[Stavros Christodoulakis, Leonidas Koveos]</td>\n",
       "      <td>1995</td>\n",
       "      <td>Modern Database Systems</td>\n",
       "      <td>3</td>\n",
       "      <td>[]</td>\n",
       "      <td></td>\n",
       "      <td>2</td>\n",
       "      <td>2</td>\n",
       "      <td>0</td>\n",
       "    </tr>\n",
       "    <tr>\n",
       "      <th>4</th>\n",
       "      <td>Active Database Systems</td>\n",
       "      <td>[Umeshwar Dayal, Eric N. Hanson, Jennifer Widom]</td>\n",
       "      <td>1995</td>\n",
       "      <td>Modern Database Systems</td>\n",
       "      <td>4</td>\n",
       "      <td>[995520]</td>\n",
       "      <td></td>\n",
       "      <td>16</td>\n",
       "      <td>3</td>\n",
       "      <td>1</td>\n",
       "    </tr>\n",
       "  </tbody>\n",
       "</table>\n",
       "</div>"
      ],
      "text/plain": [
       "                                               title  \\\n",
       "0  OQLC++ Extending C++ with an Object Query Capa...   \n",
       "1    Transaction Management in Multidatabase Systems   \n",
       "2                        Overview of the ADDS System   \n",
       "3  Multimedia Information Systems Issues and Appr...   \n",
       "4                            Active Database Systems   \n",
       "\n",
       "                                             authors  year  \\\n",
       "0                                 [José A. Blakeley]  1995   \n",
       "1  [Yuri Breitbart, Hector Garcia-Molina, Abraham...  1995   \n",
       "2                     [Yuri Breitbart, Tom C. Reyes]  1995   \n",
       "3         [Stavros Christodoulakis, Leonidas Koveos]  1995   \n",
       "4   [Umeshwar Dayal, Eric N. Hanson, Jennifer Widom]  1995   \n",
       "\n",
       "                     venue id references abstract  IsCited_Count  \\\n",
       "0  Modern Database Systems  0         []                       5   \n",
       "1  Modern Database Systems  1         []                       0   \n",
       "2  Modern Database Systems  2         []                       0   \n",
       "3  Modern Database Systems  3         []                       2   \n",
       "4  Modern Database Systems  4   [995520]                      16   \n",
       "\n",
       "   Author_Count  Ref_Count  \n",
       "0             1          0  \n",
       "1             3          0  \n",
       "2             2          0  \n",
       "3             2          0  \n",
       "4             3          1  "
      ]
     },
     "execution_count": 115,
     "metadata": {},
     "output_type": "execute_result"
    }
   ],
   "source": [
    "clean_data.head(5)"
   ]
  },
  {
   "cell_type": "code",
   "execution_count": null,
   "metadata": {},
   "outputs": [
    {
     "name": "stdout",
     "output_type": "stream",
     "text": [
      "List of unique non-alphabetic characters: []\n",
      "                        title\n",
      "0  TEMPCPP Programming Basics\n",
      "1  New in TEMPCSHARP Features\n",
      "2                      Python\n"
     ]
    }
   ],
   "source": [
    "import pandas as pd\n",
    "import re\n",
    "\n",
    "def clean_column(column):\n",
    "    # Step 1: Temporarily replace 'C++' and 'C#' to protect them\n",
    "    column = column.str.replace(r'C\\+\\+', 'TEMP_CPP', regex=True)\n",
    "    column = column.str.replace(r'C#', 'TEMP_CSHARP', regex=True)\n",
    "    \n",
    "    # Step 2: Remove all other non-alphabetic characters except spaces\n",
    "    column = column.str.replace(r'[^a-zA-Z\\s]', '', regex=True)\n",
    "    \n",
    "    # Step 3: Restore 'C++' and 'C#'\n",
    "    column = column.str.replace('TEMP_CPP', 'C++', regex=False)\n",
    "    column = column.str.replace('TEMP_CSHARP', 'C#', regex=False)\n",
    "    \n",
    "    return column\n",
    "\n",
    "# Example DataFrame\n",
    "data = {'title': [\"C++ Programming Basics\", \"New in C#: Features\", \"Python-3.8.1\"]}\n",
    "english_only_data = pd.DataFrame(data)\n",
    "\n",
    "# Clean the 'title' column\n",
    "clean_data = english_only_data.copy()\n",
    "clean_data['title'] = clean_column(english_only_data['title'])\n",
    "\n",
    "# Check for non-alphabetic characters after cleaning\n",
    "non_alphabetic_chars_set = set(re.findall(r'[^a-zA-Z\\s]', ''.join(clean_data['title'])))\n",
    "non_alphabetic_chars_list = list(non_alphabetic_chars_set)\n",
    "print(\"List of unique non-alphabetic characters:\", non_alphabetic_chars_list)\n",
    "\n",
    "# Display cleaned data\n",
    "print(clean_data)\n"
   ]
  },
  {
   "cell_type": "code",
   "execution_count": null,
   "metadata": {},
   "outputs": [],
   "source": []
  }
 ],
 "metadata": {
  "kernelspec": {
   "display_name": "Python 3",
   "language": "python",
   "name": "python3"
  },
  "language_info": {
   "codemirror_mode": {
    "name": "ipython",
    "version": 3
   },
   "file_extension": ".py",
   "mimetype": "text/x-python",
   "name": "python",
   "nbconvert_exporter": "python",
   "pygments_lexer": "ipython3",
   "version": "3.12.1"
  }
 },
 "nbformat": 4,
 "nbformat_minor": 2
}
